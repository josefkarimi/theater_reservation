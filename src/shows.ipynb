{
 "cells": [
  {
   "cell_type": "code",
   "execution_count": 2,
   "id": "63af7f34-59cf-4ab1-8492-678dbcc0fbb8",
   "metadata": {},
   "outputs": [],
   "source": [
    "class shows:\n",
    "    def __init__(self, id, name, director, genre, datetime, place, duration):\n",
    "        self.id = id\n",
    "        self.name = name\n",
    "        self.director = director\n",
    "        self.genre = genre\n",
    "        self.datetime = datetime\n",
    "        self.place = place\n",
    "        self.duration = duration"
   ]
  },
  {
   "cell_type": "code",
   "execution_count": 3,
   "id": "ba4eb2c7-c12b-463e-9792-eab6f87ded52",
   "metadata": {},
   "outputs": [],
   "source": [
    "ashoftegi = shows(1, 'ashoftegi', 'arash', 'mystery', 'emrooz', 'shahrzad', 90)"
   ]
  },
  {
   "cell_type": "code",
   "execution_count": 4,
   "id": "7689a821-20ef-4b6b-9f08-148c1840591f",
   "metadata": {},
   "outputs": [],
   "source": [
    "class places:\n",
    "    def __init__(self, name, address, parkinglot, salons=[]):\n",
    "        self.name = name\n",
    "        self.address = address\n",
    "        self.parkinglot = parkinglot\n",
    "        self.salons = salons\n",
    "    \n",
    "class salons(places):\n",
    "    def __init__(self, name, address, parkinglot, sname, row, column, *,extra = 0):\n",
    "        super().__init__( name, address, parkinglot)\n",
    "        self.sname = sname\n",
    "        self.row = row\n",
    "        self.column = column\n",
    "        self.capacity = self.capacity(extra)\n",
    "    \n",
    "    def capacity(self, extra = 0) :\n",
    "        return self.column * self.row + extra\n",
    "    "
   ]
  },
  {
   "cell_type": "code",
   "execution_count": 5,
   "id": "7773abab-ba90-4cff-8e82-8293cf472685",
   "metadata": {},
   "outputs": [],
   "source": [
    "samandarian = salons('iranshahr', 'haftetir',False,'samandarian', 10, 7,extra=10)\n"
   ]
  },
  {
   "cell_type": "code",
   "execution_count": null,
   "id": "bcb37483-57f1-472c-9eda-278caaca0d0e",
   "metadata": {},
   "outputs": [],
   "source": []
  },
  {
   "cell_type": "code",
   "execution_count": null,
   "id": "c2e6bf76-a9ab-498e-b152-163a7dce497b",
   "metadata": {},
   "outputs": [],
   "source": []
  },
  {
   "cell_type": "code",
   "execution_count": null,
   "id": "6eff9b35-168f-4e19-8a34-02fdbbcaf414",
   "metadata": {},
   "outputs": [],
   "source": []
  },
  {
   "cell_type": "code",
   "execution_count": null,
   "id": "227b358c",
   "metadata": {},
   "outputs": [],
   "source": []
  }
 ],
 "metadata": {
  "kernelspec": {
   "display_name": "Python 3.10.4 64-bit",
   "language": "python",
   "name": "python3"
  },
  "language_info": {
   "codemirror_mode": {
    "name": "ipython",
    "version": 3
   },
   "file_extension": ".py",
   "mimetype": "text/x-python",
   "name": "python",
   "nbconvert_exporter": "python",
   "pygments_lexer": "ipython3",
   "version": "3.10.4"
  },
  "vscode": {
   "interpreter": {
    "hash": "916dbcbb3f70747c44a77c7bcd40155683ae19c65e1c03b4aa3499c5328201f1"
   }
  }
 },
 "nbformat": 4,
 "nbformat_minor": 5
}
