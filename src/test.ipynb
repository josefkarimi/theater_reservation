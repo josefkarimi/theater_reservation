{
 "cells": [
  {
   "cell_type": "code",
   "execution_count": null,
   "id": "661f29ed-8a7f-4eb3-a097-f53c1b8bdcbb",
   "metadata": {},
   "outputs": [],
   "source": []
  },
  {
   "cell_type": "code",
   "execution_count": 6,
   "id": "d164d86e-9d4b-4b1b-9b11-e7cd832995ed",
   "metadata": {},
   "outputs": [
    {
     "data": {
      "text/plain": [
       "[1]"
      ]
     },
     "execution_count": 6,
     "metadata": {},
     "output_type": "execute_result"
    }
   ],
   "source": [
    "m = {1: [1,2]}\n",
    "m[1].append(3)\n",
    "list(m.keys())"
   ]
  },
  {
   "cell_type": "code",
   "execution_count": null,
   "id": "00d335c9-f936-4d98-bdf5-1d8125387806",
   "metadata": {},
   "outputs": [],
   "source": []
  }
 ],
 "metadata": {
  "kernelspec": {
   "display_name": "Python 3.8.13 ('tele')",
   "language": "python",
   "name": "python3"
  },
  "language_info": {
   "codemirror_mode": {
    "name": "ipython",
    "version": 3
   },
   "file_extension": ".py",
   "mimetype": "text/x-python",
   "name": "python",
   "nbconvert_exporter": "python",
   "pygments_lexer": "ipython3",
   "version": "3.8.13"
  },
  "vscode": {
   "interpreter": {
    "hash": "ea806d02b157697f4c574b87706a1cc775e7e7dae26d0f5b50afc04aedbd3878"
   }
  }
 },
 "nbformat": 4,
 "nbformat_minor": 5
}
